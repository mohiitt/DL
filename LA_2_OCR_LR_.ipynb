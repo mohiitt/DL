{
  "nbformat": 4,
  "nbformat_minor": 0,
  "metadata": {
    "colab": {
      "private_outputs": true,
      "provenance": [],
      "gpuType": "T4"
    },
    "kernelspec": {
      "name": "python3",
      "display_name": "Python 3"
    },
    "language_info": {
      "name": "python"
    },
    "accelerator": "GPU"
  },
  "cells": [
    {
      "cell_type": "code",
      "execution_count": null,
      "metadata": {
        "id": "XMxLqHitjkg6"
      },
      "outputs": [],
      "source": [
        "import numpy as np\n",
        "import pandas as pd\n",
        "import tensorflow as tf\n",
        "from tensorflow.keras.models import Sequential\n",
        "from tensorflow.keras.layers import Dense, Dropout\n",
        "from tensorflow.keras.utils import to_categorical\n",
        "from sklearn.model_selection import train_test_split\n",
        "from sklearn.preprocessing import LabelEncoder, StandardScaler\n",
        "from sklearn.metrics import accuracy_score, precision_score, recall_score, classification_report\n"
      ]
    },
    {
      "cell_type": "markdown",
      "source": [],
      "metadata": {
        "id": "vEeHXASOjuEU"
      }
    },
    {
      "cell_type": "code",
      "source": [
        "url = \"https://archive.ics.uci.edu/ml/machine-learning-databases/letter-recognition/letter-recognition.data\"\n",
        "column_names = ['letter'] + [f'feature_{i}' for i in range(1, 17)]\n",
        "df = pd.read_csv(url, names=column_names)"
      ],
      "metadata": {
        "id": "YLTm-GW5jvMZ"
      },
      "execution_count": null,
      "outputs": []
    },
    {
      "cell_type": "code",
      "source": [
        "label_encoder = LabelEncoder()\n",
        "df['letter'] = label_encoder.fit_transform(df['letter'])  # Converts 'A-Z' to numbers (0-25)"
      ],
      "metadata": {
        "id": "mxZ9Xb9Oj19v"
      },
      "execution_count": null,
      "outputs": []
    },
    {
      "cell_type": "code",
      "source": [
        "X = df.drop(columns=['letter']).values  # Features\n",
        "y = df['letter'].values                 # Labels\n",
        "\n",
        "scaler = StandardScaler()\n",
        "X = scaler.fit_transform(X)  # Standardizes feature values (mean=0, variance=1)\n",
        "\n",
        "# Convert labels to categorical (One-hot encoding)\n",
        "y = to_categorical(y, num_classes=26)\n"
      ],
      "metadata": {
        "id": "Ei3RX0Jcj3I0"
      },
      "execution_count": null,
      "outputs": []
    },
    {
      "cell_type": "code",
      "source": [
        "X_train, X_test, y_train, y_test = train_test_split(X, y, test_size=0.2, random_state=42)"
      ],
      "metadata": {
        "id": "geZXONIBj4UP"
      },
      "execution_count": null,
      "outputs": []
    },
    {
      "cell_type": "code",
      "source": [
        "\n",
        "model = Sequential([\n",
        "    Dense(128, activation='relu', input_shape=(16,)),  # Input layer (16 features)\n",
        "    Dropout(0.3),  # Dropout to reduce overfitting\n",
        "    Dense(64, activation='relu'),\n",
        "    Dropout(0.3),\n",
        "    Dense(32, activation='relu'),\n",
        "    Dropout(0.3),\n",
        "    Dense(26, activation='softmax')  # Output layer (26 classes)\n",
        "])\n"
      ],
      "metadata": {
        "id": "dT2CmplMj5Gt"
      },
      "execution_count": null,
      "outputs": []
    },
    {
      "cell_type": "code",
      "source": [
        "model.compile(loss='categorical_crossentropy', optimizer='adam', metrics=['accuracy'])\n"
      ],
      "metadata": {
        "id": "6atgleOzj6MP"
      },
      "execution_count": null,
      "outputs": []
    },
    {
      "cell_type": "code",
      "source": [
        "history = model.fit(X_train, y_train, validation_data=(X_test, y_test), epochs=20, batch_size=64)\n"
      ],
      "metadata": {
        "id": "E-zJVXkoj7It"
      },
      "execution_count": null,
      "outputs": []
    },
    {
      "cell_type": "code",
      "source": [
        "y_pred = model.predict(X_test)\n",
        "y_pred_classes = np.argmax(y_pred, axis=1)  # Convert probabilities to class labels\n",
        "y_test_classes = np.argmax(y_test, axis=1)\n",
        "\n",
        "accuracy = accuracy_score(y_test_classes, y_pred_classes)\n",
        "precision = precision_score(y_test_classes, y_pred_classes, average='macro')\n",
        "recall = recall_score(y_test_classes, y_pred_classes, average='macro')\n",
        "\n",
        "print(f\"Accuracy: {accuracy:.4f}\")\n",
        "print(f\"Precision: {precision:.4f}\")\n",
        "print(f\"Recall: {recall:.4f}\")\n",
        "\n",
        "print(\"\\nClassification Report:\\n\", classification_report(y_test_classes, y_pred_classes, target_names=label_encoder.classes_))\n"
      ],
      "metadata": {
        "id": "-NitMyPPj74M"
      },
      "execution_count": null,
      "outputs": []
    }
  ]
}